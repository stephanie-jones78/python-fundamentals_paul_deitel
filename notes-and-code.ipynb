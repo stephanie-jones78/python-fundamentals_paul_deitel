{
 "cells": [
  {
   "cell_type": "markdown",
   "id": "eb3feab4",
   "metadata": {},
   "source": [
    "# Using IPython Interactive Mode as a Calculator"
   ]
  },
  {
   "cell_type": "markdown",
   "id": "6ee628b9",
   "metadata": {},
   "source": [
    "Command | Description\n",
    ":-- | :--\n",
    "`ipython` | launches the python interpreter"
   ]
  },
  {
   "cell_type": "markdown",
   "id": "84f941b3",
   "metadata": {},
   "source": [
    "## Math"
   ]
  },
  {
   "cell_type": "code",
   "execution_count": 4,
   "id": "fb6d09e5",
   "metadata": {},
   "outputs": [
    {
     "data": {
      "text/plain": [
       "23.099999999999998"
      ]
     },
     "execution_count": 4,
     "metadata": {},
     "output_type": "execute_result"
    }
   ],
   "source": [
    "total = 10.7 + 12.2 + 0.2\n",
    "\n",
    "total"
   ]
  },
  {
   "cell_type": "markdown",
   "id": "c65c3662",
   "metadata": {},
   "source": [
    "## Range refresher\n",
    "`(start, stop, step)`"
   ]
  },
  {
   "cell_type": "code",
   "execution_count": 5,
   "id": "ec63dd5c",
   "metadata": {},
   "outputs": [
    {
     "data": {
      "text/plain": [
       "range(2, 10, 2)"
      ]
     },
     "execution_count": 5,
     "metadata": {},
     "output_type": "execute_result"
    }
   ],
   "source": [
    "range(2, 10, 2)"
   ]
  },
  {
   "cell_type": "code",
   "execution_count": 6,
   "id": "2b152471",
   "metadata": {},
   "outputs": [
    {
     "name": "stdout",
     "output_type": "stream",
     "text": [
      "2\n",
      "7\n",
      "12\n",
      "17\n"
     ]
    }
   ],
   "source": [
    "for number in range(2, 20, 5):\n",
    "    print(number)"
   ]
  },
  {
   "cell_type": "markdown",
   "id": "90011397",
   "metadata": {},
   "source": [
    "## `end = ' '`\n",
    "printing horizontally instead of vertical"
   ]
  },
  {
   "cell_type": "code",
   "execution_count": 26,
   "id": "47afb70f",
   "metadata": {},
   "outputs": [
    {
     "name": "stdout",
     "output_type": "stream",
     "text": [
      "2 3 4 5 6 7 8 9 10 11 12 13 14 15 16 17 18 19 "
     ]
    }
   ],
   "source": [
    "for number in range(2, 20):\n",
    "    print(number, end = ' ')"
   ]
  },
  {
   "cell_type": "markdown",
   "id": "a0dfd73d",
   "metadata": {},
   "source": [
    "## Augmented assignments"
   ]
  },
  {
   "cell_type": "code",
   "execution_count": 11,
   "id": "afd77170",
   "metadata": {},
   "outputs": [],
   "source": [
    "number = 10"
   ]
  },
  {
   "cell_type": "code",
   "execution_count": 12,
   "id": "752e8ee0",
   "metadata": {},
   "outputs": [],
   "source": [
    "number += 5"
   ]
  },
  {
   "cell_type": "code",
   "execution_count": 13,
   "id": "d2e916a4",
   "metadata": {},
   "outputs": [
    {
     "data": {
      "text/plain": [
       "15"
      ]
     },
     "execution_count": 13,
     "metadata": {},
     "output_type": "execute_result"
    }
   ],
   "source": [
    "number"
   ]
  },
  {
   "cell_type": "code",
   "execution_count": 14,
   "id": "d80911e5",
   "metadata": {},
   "outputs": [],
   "source": [
    "h = 12"
   ]
  },
  {
   "cell_type": "code",
   "execution_count": 16,
   "id": "5c748e44",
   "metadata": {},
   "outputs": [
    {
     "data": {
      "text/plain": [
       "3"
      ]
     },
     "execution_count": 16,
     "metadata": {},
     "output_type": "execute_result"
    }
   ],
   "source": [
    "h%9"
   ]
  },
  {
   "cell_type": "code",
   "execution_count": 17,
   "id": "28cd2aa7",
   "metadata": {},
   "outputs": [
    {
     "data": {
      "text/plain": [
       "3"
      ]
     },
     "execution_count": 17,
     "metadata": {},
     "output_type": "execute_result"
    }
   ],
   "source": [
    "h %= 9\n",
    "\n",
    "h"
   ]
  },
  {
   "cell_type": "markdown",
   "id": "97af163e",
   "metadata": {},
   "source": [
    "## Loops refresher"
   ]
  },
  {
   "cell_type": "code",
   "execution_count": 18,
   "id": "fb4117bd",
   "metadata": {},
   "outputs": [
    {
     "name": "stdout",
     "output_type": "stream",
     "text": [
      "3 4 5 "
     ]
    }
   ],
   "source": [
    "for number in [1, 2, 3]:\n",
    "    number += 2\n",
    "    print(number, end = ' ')"
   ]
  },
  {
   "cell_type": "code",
   "execution_count": 19,
   "id": "c6b7b37a",
   "metadata": {},
   "outputs": [
    {
     "data": {
      "text/plain": [
       "144"
      ]
     },
     "execution_count": 19,
     "metadata": {},
     "output_type": "execute_result"
    }
   ],
   "source": [
    "x = 12\n",
    "\n",
    "x*=12\n",
    "\n",
    "x"
   ]
  },
  {
   "cell_type": "code",
   "execution_count": 20,
   "id": "3a297a59",
   "metadata": {},
   "outputs": [
    {
     "data": {
      "text/plain": [
       "12.0"
      ]
     },
     "execution_count": 20,
     "metadata": {},
     "output_type": "execute_result"
    }
   ],
   "source": [
    "x **= (1/2)\n",
    "\n",
    "x"
   ]
  },
  {
   "cell_type": "code",
   "execution_count": 21,
   "id": "0d895857",
   "metadata": {},
   "outputs": [
    {
     "data": {
      "text/plain": [
       "144.0"
      ]
     },
     "execution_count": 21,
     "metadata": {},
     "output_type": "execute_result"
    }
   ],
   "source": [
    "x **= 2\n",
    "\n",
    "x"
   ]
  },
  {
   "cell_type": "markdown",
   "id": "39802b7d",
   "metadata": {},
   "source": [
    "## Augmented Assignments and Loops in Functions"
   ]
  },
  {
   "cell_type": "code",
   "execution_count": 27,
   "id": "77f2b2a1",
   "metadata": {},
   "outputs": [],
   "source": [
    "def class_average(list_of_grades):\n",
    "    '''\n",
    "    This function takes in a list of grades and returns the average grade.\n",
    "        \n",
    "        ARGS:\n",
    "        - list_of_grades: list\n",
    "        RETURNS:\n",
    "        - class_average average grade\n",
    "    '''\n",
    "    \n",
    "    #initializing variables\n",
    "    sum_of_grades = 0\n",
    "    count_of_grades = 0\n",
    "    \n",
    "    #calculating \n",
    "    for grade in list_of_grades:\n",
    "        sum_of_grades += grade #running total of grades\n",
    "        count_of_grades += 1 #running count of grades\n",
    "        \n",
    "    #computing the average\n",
    "    class_average = sum_of_grades / count_of_grades\n",
    "    print(f'The class average is {class_average}.')\n",
    "    \n",
    "    return class_average"
   ]
  },
  {
   "cell_type": "code",
   "execution_count": 25,
   "id": "37a1b7f5",
   "metadata": {},
   "outputs": [
    {
     "name": "stdout",
     "output_type": "stream",
     "text": [
      "The class average is 65.4.\n"
     ]
    },
    {
     "data": {
      "text/plain": [
       "65.4"
      ]
     },
     "execution_count": 25,
     "metadata": {},
     "output_type": "execute_result"
    }
   ],
   "source": [
    "class_average([100, 40, 29, 99, 84, 12, 3, 100, 95, 92])"
   ]
  },
  {
   "cell_type": "code",
   "execution_count": 35,
   "id": "d68f39ef",
   "metadata": {},
   "outputs": [],
   "source": [
    "def class_average_enter_grades():\n",
    "    '''\n",
    "    This function prompts the user to enter in grades, terminating when the \n",
    "    user enters -1. A final statement is printed with either the average of the \n",
    "    grades or that no grades were entered.\n",
    "    '''\n",
    "    \n",
    "    #initalizing variables\n",
    "    sum_of_grades = 0 #will collect running sum of grades\n",
    "    count_of_grades = 0 #will collect running count of grades entered\n",
    "    \n",
    "    #initial entry\n",
    "    grade = int(input('Enter grade or Enter -1 to end: ')) #holds initial input\n",
    "    \n",
    "    #subsequent entries\n",
    "    while grade != -1: #if grade entered is -1, this ends the script\n",
    "        sum_of_grades += grade #add entered grade to running total\n",
    "        count_of_grades += 1 #increase count by 1\n",
    "        grade = int(input('Enter grade or Enter -1 to end: ')) #holds subsequent inputs\n",
    "        \n",
    "    #computer average\n",
    "    if count_of_grades != 0:\n",
    "        average = sum_of_grades / count_of_grades\n",
    "        print(f'\\nGrade average: {average}')\n",
    "    else:\n",
    "        print('No grades were entered.')"
   ]
  },
  {
   "cell_type": "code",
   "execution_count": 36,
   "id": "b984f883",
   "metadata": {},
   "outputs": [
    {
     "name": "stdout",
     "output_type": "stream",
     "text": [
      "Enter grade or Enter -1 to end: 100\n",
      "Enter grade or Enter -1 to end: 90\n",
      "Enter grade or Enter -1 to end: 45\n",
      "Enter grade or Enter -1 to end: -1\n",
      "\n",
      "Grade average: 78.33333333333333\n"
     ]
    }
   ],
   "source": [
    "class_average_enter_grades()"
   ]
  },
  {
   "cell_type": "markdown",
   "id": "d01d8369",
   "metadata": {},
   "source": [
    "## Challenge\n",
    "I want to create a function that allows someone to see what final grade they would need to get in order to achieve a designated overall average grade.\n",
    "- user entry(ies)\n",
    "    - desired grade\n",
    "    - current grades (list)\n",
    "- steps\n",
    "    - compute current average\n",
    "    - computute count of grades entered (and add 1)\n",
    "\n",
    "Average = Sum of Grades / Count of Grades<br>\n",
    "Average = grade_1 + grade 2 + ... grade_x / count<br>\n",
    "Average * count = grade_1 + grade 2 + ... grade_x<br>\n",
    "(Average * count) - current sum = grade_x<br>\n",
    "Average = `desired_grade`"
   ]
  },
  {
   "cell_type": "code",
   "execution_count": 41,
   "id": "bb9c035f",
   "metadata": {},
   "outputs": [],
   "source": [
    "def what_grade():\n",
    "    '''\n",
    "    This function computes the minimum final grade a user must get in order to achieve a desired\n",
    "    final grade (average) based on the current grades the user inputs. The user inputs their current grades,\n",
    "    entering -1 to terminate and enter the desired final average grade.\n",
    "    '''\n",
    "    \n",
    "    #initalize variables\n",
    "    current_sum = 0\n",
    "    counter = 1\n",
    "    \n",
    "    #inital entry\n",
    "    grade = int(input('Enter grade, or -1 to terminate: '))\n",
    "    \n",
    "    #calculations\n",
    "    while grade != -1:\n",
    "        current_sum += grade\n",
    "        counter += 1\n",
    "        grade = int(input('Enter grade, or -1 to terminate: '))\n",
    "        \n",
    "    #computing mininimum grade\n",
    "    desired_grade = int(input('\\nEnter desired grade: '))\n",
    "    min_grade = (desired_grade * counter) - current_sum\n",
    "    print(f'--------------\\nIn order to get a {desired_grade}, you must get at least a {min_grade}.')\n",
    "    "
   ]
  },
  {
   "cell_type": "code",
   "execution_count": 40,
   "id": "11a7c075",
   "metadata": {},
   "outputs": [
    {
     "name": "stdout",
     "output_type": "stream",
     "text": [
      "Enter grade, or -1 to terminate: 100\n",
      "Enter grade, or -1 to terminate: 50\n",
      "Enter grade, or -1 to terminate: -1\n",
      "\n",
      "Enter desired grade: 75\n",
      "--------------\n",
      "In order to get a 75, you must get at least a 75.\n"
     ]
    }
   ],
   "source": [
    "what_grade()"
   ]
  },
  {
   "cell_type": "code",
   "execution_count": null,
   "id": "767e7bd6",
   "metadata": {},
   "outputs": [],
   "source": []
  }
 ],
 "metadata": {
  "kernelspec": {
   "display_name": "Python 3",
   "language": "python",
   "name": "python3"
  },
  "language_info": {
   "codemirror_mode": {
    "name": "ipython",
    "version": 3
   },
   "file_extension": ".py",
   "mimetype": "text/x-python",
   "name": "python",
   "nbconvert_exporter": "python",
   "pygments_lexer": "ipython3",
   "version": "3.8.8"
  }
 },
 "nbformat": 4,
 "nbformat_minor": 5
}
