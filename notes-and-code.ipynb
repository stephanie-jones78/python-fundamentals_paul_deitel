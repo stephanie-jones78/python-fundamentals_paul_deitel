{
 "cells": [
  {
   "cell_type": "markdown",
   "id": "eb3feab4",
   "metadata": {},
   "source": [
    "# Using IPython Interactive Mode as a Calculator"
   ]
  },
  {
   "cell_type": "markdown",
   "id": "6ee628b9",
   "metadata": {},
   "source": [
    "Command | Description\n",
    ":-- | :--\n",
    "`ipython` | launches the python interpreter"
   ]
  },
  {
   "cell_type": "markdown",
   "id": "993e01c1",
   "metadata": {},
   "source": [
    "## Math"
   ]
  },
  {
   "cell_type": "code",
   "execution_count": 4,
   "id": "bc28087c",
   "metadata": {},
   "outputs": [
    {
     "data": {
      "text/plain": [
       "23.099999999999998"
      ]
     },
     "execution_count": 4,
     "metadata": {},
     "output_type": "execute_result"
    }
   ],
   "source": [
    "total = 10.7 + 12.2 + 0.2\n",
    "\n",
    "total"
   ]
  },
  {
   "cell_type": "markdown",
   "id": "18c1492b",
   "metadata": {},
   "source": [
    "## Range refresher\n",
    "`(start, stop, step)`"
   ]
  },
  {
   "cell_type": "code",
   "execution_count": 5,
   "id": "8d98f8b9",
   "metadata": {},
   "outputs": [
    {
     "data": {
      "text/plain": [
       "range(2, 10, 2)"
      ]
     },
     "execution_count": 5,
     "metadata": {},
     "output_type": "execute_result"
    }
   ],
   "source": [
    "range(2, 10, 2)"
   ]
  },
  {
   "cell_type": "code",
   "execution_count": 6,
   "id": "16fb0754",
   "metadata": {},
   "outputs": [
    {
     "name": "stdout",
     "output_type": "stream",
     "text": [
      "2\n",
      "7\n",
      "12\n",
      "17\n"
     ]
    }
   ],
   "source": [
    "for number in range(2, 20, 5):\n",
    "    print(number)"
   ]
  },
  {
   "cell_type": "markdown",
   "id": "a84fd769",
   "metadata": {},
   "source": [
    "## `end = ' '`\n",
    "printing horizontally instead of vertical"
   ]
  },
  {
   "cell_type": "code",
   "execution_count": 26,
   "id": "56f62379",
   "metadata": {},
   "outputs": [
    {
     "name": "stdout",
     "output_type": "stream",
     "text": [
      "2 3 4 5 6 7 8 9 10 11 12 13 14 15 16 17 18 19 "
     ]
    }
   ],
   "source": [
    "for number in range(2, 20):\n",
    "    print(number, end = ' ')"
   ]
  },
  {
   "cell_type": "markdown",
   "id": "a3dc5dfb",
   "metadata": {},
   "source": [
    "## Augmented assignments"
   ]
  },
  {
   "cell_type": "code",
   "execution_count": 11,
   "id": "4d4e179c",
   "metadata": {},
   "outputs": [],
   "source": [
    "number = 10"
   ]
  },
  {
   "cell_type": "code",
   "execution_count": 12,
   "id": "31cf8b6b",
   "metadata": {},
   "outputs": [],
   "source": [
    "number += 5"
   ]
  },
  {
   "cell_type": "code",
   "execution_count": 13,
   "id": "2ec7e628",
   "metadata": {},
   "outputs": [
    {
     "data": {
      "text/plain": [
       "15"
      ]
     },
     "execution_count": 13,
     "metadata": {},
     "output_type": "execute_result"
    }
   ],
   "source": [
    "number"
   ]
  },
  {
   "cell_type": "code",
   "execution_count": 14,
   "id": "54f679c3",
   "metadata": {},
   "outputs": [],
   "source": [
    "h = 12"
   ]
  },
  {
   "cell_type": "code",
   "execution_count": 16,
   "id": "19cb8255",
   "metadata": {},
   "outputs": [
    {
     "data": {
      "text/plain": [
       "3"
      ]
     },
     "execution_count": 16,
     "metadata": {},
     "output_type": "execute_result"
    }
   ],
   "source": [
    "h%9"
   ]
  },
  {
   "cell_type": "code",
   "execution_count": 17,
   "id": "78d01dbb",
   "metadata": {},
   "outputs": [
    {
     "data": {
      "text/plain": [
       "3"
      ]
     },
     "execution_count": 17,
     "metadata": {},
     "output_type": "execute_result"
    }
   ],
   "source": [
    "h %= 9\n",
    "\n",
    "h"
   ]
  },
  {
   "cell_type": "markdown",
   "id": "513a5df8",
   "metadata": {},
   "source": [
    "## Loops refresher"
   ]
  },
  {
   "cell_type": "code",
   "execution_count": 18,
   "id": "174cfc33",
   "metadata": {},
   "outputs": [
    {
     "name": "stdout",
     "output_type": "stream",
     "text": [
      "3 4 5 "
     ]
    }
   ],
   "source": [
    "for number in [1, 2, 3]:\n",
    "    number += 2\n",
    "    print(number, end = ' ')"
   ]
  },
  {
   "cell_type": "code",
   "execution_count": 19,
   "id": "9f0316aa",
   "metadata": {},
   "outputs": [
    {
     "data": {
      "text/plain": [
       "144"
      ]
     },
     "execution_count": 19,
     "metadata": {},
     "output_type": "execute_result"
    }
   ],
   "source": [
    "x = 12\n",
    "\n",
    "x*=12\n",
    "\n",
    "x"
   ]
  },
  {
   "cell_type": "code",
   "execution_count": 20,
   "id": "ae5f5fed",
   "metadata": {},
   "outputs": [
    {
     "data": {
      "text/plain": [
       "12.0"
      ]
     },
     "execution_count": 20,
     "metadata": {},
     "output_type": "execute_result"
    }
   ],
   "source": [
    "x **= (1/2)\n",
    "\n",
    "x"
   ]
  },
  {
   "cell_type": "code",
   "execution_count": 21,
   "id": "593f89f4",
   "metadata": {},
   "outputs": [
    {
     "data": {
      "text/plain": [
       "144.0"
      ]
     },
     "execution_count": 21,
     "metadata": {},
     "output_type": "execute_result"
    }
   ],
   "source": [
    "x **= 2\n",
    "\n",
    "x"
   ]
  },
  {
   "cell_type": "markdown",
   "id": "2281af4b",
   "metadata": {},
   "source": [
    "## Augmented Assignments and Loops in Functions"
   ]
  },
  {
   "cell_type": "code",
   "execution_count": 27,
   "id": "10335499",
   "metadata": {},
   "outputs": [],
   "source": [
    "def class_average(list_of_grades):\n",
    "    '''\n",
    "    This function takes in a list of grades and returns the average grade.\n",
    "        \n",
    "        ARGS:\n",
    "        - list_of_grades: list\n",
    "        RETURNS:\n",
    "        - class_average average grade\n",
    "    '''\n",
    "    \n",
    "    #initializing variables\n",
    "    sum_of_grades = 0\n",
    "    count_of_grades = 0\n",
    "    \n",
    "    #calculating \n",
    "    for grade in list_of_grades:\n",
    "        sum_of_grades += grade #running total of grades\n",
    "        count_of_grades += 1 #running count of grades\n",
    "        \n",
    "    #computing the average\n",
    "    class_average = sum_of_grades / count_of_grades\n",
    "    print(f'The class average is {class_average}.')\n",
    "    \n",
    "    return class_average"
   ]
  },
  {
   "cell_type": "code",
   "execution_count": 25,
   "id": "959813d3",
   "metadata": {},
   "outputs": [
    {
     "name": "stdout",
     "output_type": "stream",
     "text": [
      "The class average is 65.4.\n"
     ]
    },
    {
     "data": {
      "text/plain": [
       "65.4"
      ]
     },
     "execution_count": 25,
     "metadata": {},
     "output_type": "execute_result"
    }
   ],
   "source": [
    "class_average([100, 40, 29, 99, 84, 12, 3, 100, 95, 92])"
   ]
  },
  {
   "cell_type": "code",
   "execution_count": 31,
   "id": "795a3ba8",
   "metadata": {},
   "outputs": [],
   "source": [
    "def class_average_enter_grades():\n",
    "    '''\n",
    "    This function prompts the user to enter in grades, terminating when the \n",
    "    user enters -1. A final statement is printed with either the average of the \n",
    "    grades or that no grades were entered.\n",
    "    '''\n",
    "    \n",
    "    #initalizing variables\n",
    "    sum_of_grades = 0 #will collect running sum of grades\n",
    "    count_of_grades = 0 #will collect running count of grades entered\n",
    "    \n",
    "    #initial entry\n",
    "    grade = int(input('Enter grade or Enter -1 to end: ')) #holds initial input\n",
    "    \n",
    "    #subsequent entries\n",
    "    while grade != -1: #if grade entered is -1, this ends the script\n",
    "        sum_of_grades += grade #add entered grade to running total\n",
    "        count_of_grades += 1 #increase count by 1\n",
    "        grade = int(input('Enter grade or Enter -1 to end: ')) #holds subsequent inputs\n",
    "        \n",
    "    #computer average\n",
    "    if count_of_grades != 0:\n",
    "        average = sum_of_grades / count_of_grades\n",
    "        print(f'Grade average: {average}')\n",
    "    else:\n",
    "        print('No grades were entered.')"
   ]
  },
  {
   "cell_type": "code",
   "execution_count": 32,
   "id": "baa28a62",
   "metadata": {},
   "outputs": [
    {
     "name": "stdout",
     "output_type": "stream",
     "text": [
      "Enter grade or Enter -1 to end: 80\n",
      "Enter grade or Enter -1 to end: 21\n",
      "Enter grade or Enter -1 to end: 100\n",
      "Enter grade or Enter -1 to end: 75\n",
      "Enter grade or Enter -1 to end: 90\n",
      "Enter grade or Enter -1 to end: -1\n",
      "Grade average: 73.2\n"
     ]
    }
   ],
   "source": [
    "class_average_enter_grades()"
   ]
  },
  {
   "cell_type": "code",
   "execution_count": null,
   "id": "83da538f",
   "metadata": {},
   "outputs": [],
   "source": []
  }
 ],
 "metadata": {
  "kernelspec": {
   "display_name": "Python 3",
   "language": "python",
   "name": "python3"
  },
  "language_info": {
   "codemirror_mode": {
    "name": "ipython",
    "version": 3
   },
   "file_extension": ".py",
   "mimetype": "text/x-python",
   "name": "python",
   "nbconvert_exporter": "python",
   "pygments_lexer": "ipython3",
   "version": "3.8.8"
  }
 },
 "nbformat": 4,
 "nbformat_minor": 5
}
