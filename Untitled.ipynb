{
 "cells": [
  {
   "cell_type": "markdown",
   "id": "38c8087b",
   "metadata": {},
   "source": [
    "# Using IPython Interactive Mode as a Calculator"
   ]
  },
  {
   "cell_type": "markdown",
   "id": "ba1fd043",
   "metadata": {},
   "source": [
    "Command | Description\n",
    ":-- | :--\n",
    "`ipython` | launches the python interpreter"
   ]
  }
 ],
 "metadata": {
  "kernelspec": {
   "display_name": "Python 3",
   "language": "python",
   "name": "python3"
  },
  "language_info": {
   "codemirror_mode": {
    "name": "ipython",
    "version": 3
   },
   "file_extension": ".py",
   "mimetype": "text/x-python",
   "name": "python",
   "nbconvert_exporter": "python",
   "pygments_lexer": "ipython3",
   "version": "3.8.8"
  }
 },
 "nbformat": 4,
 "nbformat_minor": 5
}
